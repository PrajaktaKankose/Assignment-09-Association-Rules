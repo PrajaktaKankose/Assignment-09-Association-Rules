{
  "nbformat": 4,
  "nbformat_minor": 0,
  "metadata": {
    "colab": {
      "name": "Assignment-09-Association Rules Data Mining (Books).ipynb",
      "provenance": []
    },
    "kernelspec": {
      "name": "python3",
      "display_name": "Python 3"
    },
    "language_info": {
      "name": "python"
    }
  },
  "cells": [
    {
      "cell_type": "markdown",
      "source": [
        "Q 2)"
      ],
      "metadata": {
        "id": "v_nDNjojd9a0"
      }
    },
    {
      "cell_type": "code",
      "execution_count": null,
      "metadata": {
        "id": "Vkbw1emTb9Rz"
      },
      "outputs": [],
      "source": [
        "# Import Libraries\n",
        "import pandas as pd\n",
        "import numpy as np\n",
        "import matplotlib.pyplot as plt\n",
        "from mlxtend.frequent_patterns import apriori,association_rules\n",
        "from mlxtend.preprocessing import TransactionEncoder"
      ]
    },
    {
      "cell_type": "code",
      "source": [
        "# Import Dataset\n",
        "book=pd.read_csv('/content/book.csv')\n",
        "book"
      ],
      "metadata": {
        "id": "0U6jqlo0cSSu"
      },
      "execution_count": null,
      "outputs": []
    },
    {
      "cell_type": "code",
      "source": [
        "# Data preprocessing not required as it is already in transaction format\n",
        "#Apriori Algorithm\n",
        "#1. Association rules with 10% Support and 70% confidence"
      ],
      "metadata": {
        "id": "6DMt4CsLcU8P"
      },
      "execution_count": null,
      "outputs": []
    },
    {
      "cell_type": "code",
      "source": [
        "# With 10% Support\n",
        "frequent_itemsets=apriori(book,min_support=0.1,use_colnames=True)\n",
        "frequent_itemsets"
      ],
      "metadata": {
        "id": "N0WQJyJBccKk"
      },
      "execution_count": null,
      "outputs": []
    },
    {
      "cell_type": "code",
      "source": [
        "# with 70% confidence\n",
        "rules=association_rules(frequent_itemsets,metric='lift',min_threshold=0.7)\n",
        "rules"
      ],
      "metadata": {
        "id": "ma-RTG7xcpRn"
      },
      "execution_count": null,
      "outputs": []
    },
    {
      "cell_type": "code",
      "source": [
        "## A leverage value of 0 indicates independence. Range will be [-1 1]\n",
        "## A high conviction value means that the consequent is highly depending on the antecedent and range [0 inf]"
      ],
      "metadata": {
        "id": "JVu9YDd1csfT"
      },
      "execution_count": null,
      "outputs": []
    },
    {
      "cell_type": "code",
      "source": [
        "rules.sort_values('lift',ascending=False)"
      ],
      "metadata": {
        "id": "fRUAp6O3cv95"
      },
      "execution_count": null,
      "outputs": []
    },
    {
      "cell_type": "code",
      "source": [
        "# Lift Ratio > 1 is a good influential rule in selecting the associated transactions\n",
        "rules[rules.lift>1]"
      ],
      "metadata": {
        "id": "Pkeddd-YcyrK"
      },
      "execution_count": null,
      "outputs": []
    },
    {
      "cell_type": "code",
      "source": [
        "# visualization of obtained rule\n",
        "plt.scatter(rules['support'],rules['confidence'])\n",
        "plt.xlabel('support')\n",
        "plt.ylabel('confidence') \n",
        "plt.show()"
      ],
      "metadata": {
        "id": "X0NP8m9Cc16x"
      },
      "execution_count": null,
      "outputs": []
    },
    {
      "cell_type": "code",
      "source": [
        "#2. Association rules with 20% Support and 60% confidence"
      ],
      "metadata": {
        "id": "78Fw0QsEc5kp"
      },
      "execution_count": null,
      "outputs": []
    },
    {
      "cell_type": "code",
      "source": [
        "# With 20% Support\n",
        "frequent_itemsets2=apriori(book,min_support=0.20,use_colnames=True)\n",
        "frequent_itemsets2"
      ],
      "metadata": {
        "id": "78WfuPsec9eH"
      },
      "execution_count": null,
      "outputs": []
    },
    {
      "cell_type": "code",
      "source": [
        "# With 60% confidence\n",
        "rules2=association_rules(frequent_itemsets2,metric='lift',min_threshold=0.6)\n",
        "rules2"
      ],
      "metadata": {
        "id": "SuvQUJCIdAlg"
      },
      "execution_count": null,
      "outputs": []
    },
    {
      "cell_type": "code",
      "source": [
        "# visualization of obtained rule\n",
        "plt.scatter(rules2['support'],rules2['confidence'])\n",
        "plt.xlabel('support')\n",
        "plt.ylabel('confidence') \n",
        "plt.show()"
      ],
      "metadata": {
        "id": "4kQM-UScdDat"
      },
      "execution_count": null,
      "outputs": []
    },
    {
      "cell_type": "code",
      "source": [
        "#3. Association rules with 5% Support and 80% confidence"
      ],
      "metadata": {
        "id": "MlFSnjTNdGLo"
      },
      "execution_count": null,
      "outputs": []
    },
    {
      "cell_type": "code",
      "source": [
        "# With 5% Support\n",
        "frequent_itemsets3=apriori(book,min_support=0.05,use_colnames=True)\n",
        "frequent_itemsets3"
      ],
      "metadata": {
        "id": "Yz7leuc8dNUz"
      },
      "execution_count": null,
      "outputs": []
    },
    {
      "cell_type": "code",
      "source": [
        "# With 80% confidence\n",
        "rules3=association_rules(frequent_itemsets3,metric='lift',min_threshold=0.8)\n",
        "rules3"
      ],
      "metadata": {
        "id": "0uWJNpEXdQvp"
      },
      "execution_count": null,
      "outputs": []
    },
    {
      "cell_type": "code",
      "source": [
        "rules3[rules3.lift>1]"
      ],
      "metadata": {
        "id": "5f7qrpSqdTzF"
      },
      "execution_count": null,
      "outputs": []
    },
    {
      "cell_type": "code",
      "source": [
        "# visualization of obtained rule\n",
        "plt.scatter(rules3['support'],rules3['confidence'])\n",
        "plt.xlabel('support')\n",
        "plt.ylabel('confidence') \n",
        "plt.show()\n"
      ],
      "metadata": {
        "id": "JCp50RCGdWDf"
      },
      "execution_count": null,
      "outputs": []
    },
    {
      "cell_type": "code",
      "source": [
        ""
      ],
      "metadata": {
        "id": "pD5X79YxdZWK"
      },
      "execution_count": null,
      "outputs": []
    }
  ]
}