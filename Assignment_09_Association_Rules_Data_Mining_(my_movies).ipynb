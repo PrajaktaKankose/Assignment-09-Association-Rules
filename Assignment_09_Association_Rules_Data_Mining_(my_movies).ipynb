{
  "nbformat": 4,
  "nbformat_minor": 0,
  "metadata": {
    "colab": {
      "name": "Assignment-09-Association Rules Data Mining (my_movies).ipynb",
      "provenance": [],
      "collapsed_sections": []
    },
    "kernelspec": {
      "name": "python3",
      "display_name": "Python 3"
    },
    "language_info": {
      "name": "python"
    }
  },
  "cells": [
    {
      "cell_type": "markdown",
      "source": [
        "Q 1)"
      ],
      "metadata": {
        "id": "fsElC3Wjd2sl"
      }
    },
    {
      "cell_type": "code",
      "execution_count": null,
      "metadata": {
        "id": "l-P62e7jW7BD"
      },
      "outputs": [],
      "source": [
        "# Import Libraries\n",
        "import pandas as pd\n",
        "import numpy as np\n",
        "import matplotlib.pyplot as plt\n",
        "import seaborn as sns\n",
        "from mlxtend.frequent_patterns import apriori,association_rules\n",
        "from mlxtend.preprocessing import TransactionEncoder"
      ]
    },
    {
      "cell_type": "code",
      "source": [
        "# Import Dataset\n",
        "movie=pd.read_csv('/content/my_movies.csv')\n",
        "movie"
      ],
      "metadata": {
        "id": "o7d4f3v9XO4m"
      },
      "execution_count": null,
      "outputs": []
    },
    {
      "cell_type": "code",
      "source": [
        "movie.shape"
      ],
      "metadata": {
        "id": "gEW8_MaGXVYB"
      },
      "execution_count": null,
      "outputs": []
    },
    {
      "cell_type": "code",
      "source": [
        "movie.info()"
      ],
      "metadata": {
        "id": "yqQTBoxnaNqZ"
      },
      "execution_count": null,
      "outputs": []
    },
    {
      "cell_type": "code",
      "source": [
        "movie2=movie.iloc[:,5:]\n",
        "movie2"
      ],
      "metadata": {
        "id": "-YIUbAZjaQ-A"
      },
      "execution_count": null,
      "outputs": []
    },
    {
      "cell_type": "code",
      "source": [
        "#Apriori Algorithm\n",
        "#1. Association rules with 10% Support and 70% confidence"
      ],
      "metadata": {
        "id": "tz571x5saViP"
      },
      "execution_count": null,
      "outputs": []
    },
    {
      "cell_type": "code",
      "source": [
        "# with 10% support\n",
        "frequent_itemsets=apriori(movie2,min_support=0.1,use_colnames=True)\n",
        "frequent_itemsets"
      ],
      "metadata": {
        "id": "gTiHBdUdaoUS"
      },
      "execution_count": null,
      "outputs": []
    },
    {
      "cell_type": "code",
      "source": [
        "# 70% confidence\n",
        "rules=association_rules(frequent_itemsets,metric='lift',min_threshold=0.7)\n",
        "rules"
      ],
      "metadata": {
        "id": "HH03W2OLarUQ"
      },
      "execution_count": null,
      "outputs": []
    },
    {
      "cell_type": "code",
      "source": [
        "# Lift Ratio > 1 is a good influential rule in selecting the associated transactions\n",
        "rules[rules.lift>1]"
      ],
      "metadata": {
        "id": "LQO51EE3axHN"
      },
      "execution_count": null,
      "outputs": []
    },
    {
      "cell_type": "code",
      "source": [
        "# visualization of obtained rule\n",
        "plt.scatter(rules['support'],rules['confidence'])\n",
        "plt.xlabel('support')\n",
        "plt.ylabel('confidence')\n",
        "plt.show()"
      ],
      "metadata": {
        "id": "IW9w4NAJa00i"
      },
      "execution_count": null,
      "outputs": []
    },
    {
      "cell_type": "code",
      "source": [
        "#2. Association rules with 5% Support and 90% confidence"
      ],
      "metadata": {
        "id": "fQjOqAWEa4CM"
      },
      "execution_count": 19,
      "outputs": []
    },
    {
      "cell_type": "code",
      "source": [
        "# with 5% support\n",
        "frequent_itemsets2=apriori(movie2,min_support=0.05,use_colnames=True)\n",
        "frequent_itemsets2"
      ],
      "metadata": {
        "id": "NAPgIqCKa__b"
      },
      "execution_count": null,
      "outputs": []
    },
    {
      "cell_type": "code",
      "source": [
        "# 90% confidence\n",
        "rules2=association_rules(frequent_itemsets2,metric='lift',min_threshold=0.9)\n",
        "rules2"
      ],
      "metadata": {
        "id": "PtfAc37rbCp2"
      },
      "execution_count": null,
      "outputs": []
    },
    {
      "cell_type": "code",
      "source": [
        "# Lift Ratio > 1 is a good influential rule in selecting the associated transactions\n",
        "rules2[rules2.lift>1]"
      ],
      "metadata": {
        "id": "oYsEJPlTbHAn"
      },
      "execution_count": null,
      "outputs": []
    },
    {
      "cell_type": "code",
      "source": [
        "# visualization of obtained rule\n",
        "plt.scatter(rules2['support'],rules2['confidence'])\n",
        "plt.xlabel('support')\n",
        "plt.ylabel('confidence')\n",
        "plt.show()"
      ],
      "metadata": {
        "id": "pTgNoCE1bLYL"
      },
      "execution_count": null,
      "outputs": []
    },
    {
      "cell_type": "code",
      "source": [
        ""
      ],
      "metadata": {
        "id": "MU_mjzb_bPnm"
      },
      "execution_count": null,
      "outputs": []
    }
  ]
}